{
  "nbformat": 4,
  "nbformat_minor": 0,
  "metadata": {
    "colab": {
      "name": "CW Prediction With Regression.ipynb",
      "provenance": [],
      "collapsed_sections": [
        "hwQ767pKybHU"
      ],
      "toc_visible": true
    },
    "kernelspec": {
      "name": "python3",
      "display_name": "Python 3"
    },
    "language_info": {
      "name": "python"
    },
    "accelerator": "GPU"
  },
  "cells": [
    {
      "cell_type": "markdown",
      "source": [
        "# Prediksi Perhitungan Lebar Gigi Seri Tengah Atas Dengan Regression\n",
        "Author : Dwi Mustikasari (1402018219)\n"
      ],
      "metadata": {
        "id": "EpixmXPHu8um"
      }
    },
    {
      "cell_type": "markdown",
      "source": [
        "# Import Package "
      ],
      "metadata": {
        "id": "2HFsyX-SvAn-"
      }
    },
    {
      "cell_type": "code",
      "execution_count": null,
      "metadata": {
        "id": "OAQztDdkbrOd",
        "colab": {
          "base_uri": "https://localhost:8080/"
        },
        "outputId": "aa67b945-6e53-4f18-ccf8-f833d83b0132"
      },
      "outputs": [
        {
          "output_type": "stream",
          "name": "stdout",
          "text": [
            "Collecting catboost\n",
            "  Downloading catboost-1.0.5-cp37-none-manylinux1_x86_64.whl (76.6 MB)\n",
            "\u001b[K     |████████████████████████████████| 76.6 MB 47 kB/s \n",
            "\u001b[?25hRequirement already satisfied: plotly in /usr/local/lib/python3.7/dist-packages (from catboost) (5.5.0)\n",
            "Requirement already satisfied: numpy>=1.16.0 in /usr/local/lib/python3.7/dist-packages (from catboost) (1.21.6)\n",
            "Requirement already satisfied: scipy in /usr/local/lib/python3.7/dist-packages (from catboost) (1.4.1)\n",
            "Requirement already satisfied: six in /usr/local/lib/python3.7/dist-packages (from catboost) (1.15.0)\n",
            "Requirement already satisfied: graphviz in /usr/local/lib/python3.7/dist-packages (from catboost) (0.10.1)\n",
            "Requirement already satisfied: pandas>=0.24.0 in /usr/local/lib/python3.7/dist-packages (from catboost) (1.3.5)\n",
            "Requirement already satisfied: matplotlib in /usr/local/lib/python3.7/dist-packages (from catboost) (3.2.2)\n",
            "Requirement already satisfied: python-dateutil>=2.7.3 in /usr/local/lib/python3.7/dist-packages (from pandas>=0.24.0->catboost) (2.8.2)\n",
            "Requirement already satisfied: pytz>=2017.3 in /usr/local/lib/python3.7/dist-packages (from pandas>=0.24.0->catboost) (2022.1)\n",
            "Requirement already satisfied: cycler>=0.10 in /usr/local/lib/python3.7/dist-packages (from matplotlib->catboost) (0.11.0)\n",
            "Requirement already satisfied: pyparsing!=2.0.4,!=2.1.2,!=2.1.6,>=2.0.1 in /usr/local/lib/python3.7/dist-packages (from matplotlib->catboost) (3.0.8)\n",
            "Requirement already satisfied: kiwisolver>=1.0.1 in /usr/local/lib/python3.7/dist-packages (from matplotlib->catboost) (1.4.2)\n",
            "Requirement already satisfied: typing-extensions in /usr/local/lib/python3.7/dist-packages (from kiwisolver>=1.0.1->matplotlib->catboost) (4.2.0)\n",
            "Requirement already satisfied: tenacity>=6.2.0 in /usr/local/lib/python3.7/dist-packages (from plotly->catboost) (8.0.1)\n",
            "Installing collected packages: catboost\n",
            "Successfully installed catboost-1.0.5\n"
          ]
        }
      ],
      "source": [
        "import pandas as pd\n",
        "import numpy as np\n",
        "from sklearn.preprocessing import LabelEncoder\n",
        "from sklearn.preprocessing import MinMaxScaler\n",
        "from sklearn.neural_network import MLPRegressor\n",
        "from sklearn.linear_model import Ridge\n",
        "from sklearn.model_selection import train_test_split\n",
        "from sklearn.linear_model import LinearRegression\n",
        "from sklearn.linear_model import LogisticRegression\n",
        "from sklearn.neighbors import KNeighborsRegressor\n",
        "from sklearn.metrics import mean_absolute_error\n",
        "from sklearn.metrics import mean_squared_error\n",
        "from tensorflow.keras.metrics import RootMeanSquaredError\n",
        "from sklearn.metrics import mean_squared_log_error\n",
        "from sklearn.tree import DecisionTreeRegressor\n",
        "from sklearn.ensemble import RandomForestRegressor\n",
        "from sklearn.model_selection import GridSearchCV\n",
        "from sklearn import metrics\n",
        "from xgboost import XGBRegressor\n",
        "from sklearn.feature_extraction.text import CountVectorizer\n",
        "from sklearn.feature_extraction.text import TfidfTransformer\n",
        "from sklearn.metrics import accuracy_score, confusion_matrix,classification_report, precision_score\n",
        "from sklearn.linear_model import LogisticRegression\n",
        "from sklearn.svm import LinearSVC\n",
        "from sklearn.naive_bayes import MultinomialNB\n",
        "from scipy.stats import pearsonr\n",
        "from tensorflow.keras.layers import *\n",
        "from tensorflow.keras.models import *\n",
        "from tensorflow.keras.optimizers import *\n",
        "import plotly.express as px\n",
        "import plotly.figure_factory as ff\n",
        "import matplotlib.pyplot as plt\n",
        "import seaborn as sns\n",
        "!pip3 install catboost\n",
        "from catboost import CatBoostRegressor\n",
        "from xgboost import XGBRegressor"
      ]
    },
    {
      "cell_type": "markdown",
      "source": [
        "# Import Dataset From Google Drive "
      ],
      "metadata": {
        "id": "UxNed5A9xzll"
      }
    },
    {
      "cell_type": "code",
      "source": [
        "from google.colab import drive\n",
        "drive.mount('/content/drive')"
      ],
      "metadata": {
        "id": "Cm2dQAkYbt-_",
        "colab": {
          "base_uri": "https://localhost:8080/"
        },
        "outputId": "bc15c38e-32bf-4b6a-adba-154ee3ad1217"
      },
      "execution_count": null,
      "outputs": [
        {
          "output_type": "stream",
          "name": "stdout",
          "text": [
            "Drive already mounted at /content/drive; to attempt to forcibly remount, call drive.mount(\"/content/drive\", force_remount=True).\n"
          ]
        }
      ]
    },
    {
      "cell_type": "markdown",
      "source": [
        "# Exploratory Data Analysis (EDA)\n",
        "\n",
        "\n",
        "\n"
      ],
      "metadata": {
        "id": "d6qJLlgCyAfz"
      }
    },
    {
      "cell_type": "code",
      "source": [
        "df=pd.read_csv('/content/drive/MyDrive/Dataset2/Facial measurements New.csv')\n",
        "df.head(10)"
      ],
      "metadata": {
        "id": "rFlnMqJgbyfW",
        "colab": {
          "base_uri": "https://localhost:8080/",
          "height": 363
        },
        "outputId": "9176f3f0-3919-440f-f149-69c5a2bd6ce5"
      },
      "execution_count": null,
      "outputs": [
        {
          "output_type": "execute_result",
          "data": {
            "text/plain": [
              "   photo number   ICW    IAW   MCW   LCW   IPW    CW SEX\n",
              "0             2  5.34  3.740  3.32  8.88  6.29  0.88   F\n",
              "1             4  4.75  3.380  2.92  7.99  5.77  0.79   F\n",
              "2             5  4.52  3.225  2.85  7.60  5.47  0.75   F\n",
              "3             9  4.76  3.540  3.11  8.30  5.95  0.82   F\n",
              "4            10  5.15  3.380  3.25  8.51  6.20  0.85   F\n",
              "5            11  5.25  3.740  3.18  8.76  6.34  0.87   F\n",
              "6            12  5.12  3.590  3.18  8.67  6.17  0.85   F\n",
              "7            13  5.55  3.780  3.46  9.27  6.64  0.92   F\n",
              "8            14  4.97  3.460  3.10  8.42  6.01  0.83   F\n",
              "9            15  5.08  3.620  3.16  8.54  6.18  0.85   F"
            ],
            "text/html": [
              "\n",
              "  <div id=\"df-a7cc7f49-1540-42ed-aea7-efd6c2af499b\">\n",
              "    <div class=\"colab-df-container\">\n",
              "      <div>\n",
              "<style scoped>\n",
              "    .dataframe tbody tr th:only-of-type {\n",
              "        vertical-align: middle;\n",
              "    }\n",
              "\n",
              "    .dataframe tbody tr th {\n",
              "        vertical-align: top;\n",
              "    }\n",
              "\n",
              "    .dataframe thead th {\n",
              "        text-align: right;\n",
              "    }\n",
              "</style>\n",
              "<table border=\"1\" class=\"dataframe\">\n",
              "  <thead>\n",
              "    <tr style=\"text-align: right;\">\n",
              "      <th></th>\n",
              "      <th>photo number</th>\n",
              "      <th>ICW</th>\n",
              "      <th>IAW</th>\n",
              "      <th>MCW</th>\n",
              "      <th>LCW</th>\n",
              "      <th>IPW</th>\n",
              "      <th>CW</th>\n",
              "      <th>SEX</th>\n",
              "    </tr>\n",
              "  </thead>\n",
              "  <tbody>\n",
              "    <tr>\n",
              "      <th>0</th>\n",
              "      <td>2</td>\n",
              "      <td>5.34</td>\n",
              "      <td>3.740</td>\n",
              "      <td>3.32</td>\n",
              "      <td>8.88</td>\n",
              "      <td>6.29</td>\n",
              "      <td>0.88</td>\n",
              "      <td>F</td>\n",
              "    </tr>\n",
              "    <tr>\n",
              "      <th>1</th>\n",
              "      <td>4</td>\n",
              "      <td>4.75</td>\n",
              "      <td>3.380</td>\n",
              "      <td>2.92</td>\n",
              "      <td>7.99</td>\n",
              "      <td>5.77</td>\n",
              "      <td>0.79</td>\n",
              "      <td>F</td>\n",
              "    </tr>\n",
              "    <tr>\n",
              "      <th>2</th>\n",
              "      <td>5</td>\n",
              "      <td>4.52</td>\n",
              "      <td>3.225</td>\n",
              "      <td>2.85</td>\n",
              "      <td>7.60</td>\n",
              "      <td>5.47</td>\n",
              "      <td>0.75</td>\n",
              "      <td>F</td>\n",
              "    </tr>\n",
              "    <tr>\n",
              "      <th>3</th>\n",
              "      <td>9</td>\n",
              "      <td>4.76</td>\n",
              "      <td>3.540</td>\n",
              "      <td>3.11</td>\n",
              "      <td>8.30</td>\n",
              "      <td>5.95</td>\n",
              "      <td>0.82</td>\n",
              "      <td>F</td>\n",
              "    </tr>\n",
              "    <tr>\n",
              "      <th>4</th>\n",
              "      <td>10</td>\n",
              "      <td>5.15</td>\n",
              "      <td>3.380</td>\n",
              "      <td>3.25</td>\n",
              "      <td>8.51</td>\n",
              "      <td>6.20</td>\n",
              "      <td>0.85</td>\n",
              "      <td>F</td>\n",
              "    </tr>\n",
              "    <tr>\n",
              "      <th>5</th>\n",
              "      <td>11</td>\n",
              "      <td>5.25</td>\n",
              "      <td>3.740</td>\n",
              "      <td>3.18</td>\n",
              "      <td>8.76</td>\n",
              "      <td>6.34</td>\n",
              "      <td>0.87</td>\n",
              "      <td>F</td>\n",
              "    </tr>\n",
              "    <tr>\n",
              "      <th>6</th>\n",
              "      <td>12</td>\n",
              "      <td>5.12</td>\n",
              "      <td>3.590</td>\n",
              "      <td>3.18</td>\n",
              "      <td>8.67</td>\n",
              "      <td>6.17</td>\n",
              "      <td>0.85</td>\n",
              "      <td>F</td>\n",
              "    </tr>\n",
              "    <tr>\n",
              "      <th>7</th>\n",
              "      <td>13</td>\n",
              "      <td>5.55</td>\n",
              "      <td>3.780</td>\n",
              "      <td>3.46</td>\n",
              "      <td>9.27</td>\n",
              "      <td>6.64</td>\n",
              "      <td>0.92</td>\n",
              "      <td>F</td>\n",
              "    </tr>\n",
              "    <tr>\n",
              "      <th>8</th>\n",
              "      <td>14</td>\n",
              "      <td>4.97</td>\n",
              "      <td>3.460</td>\n",
              "      <td>3.10</td>\n",
              "      <td>8.42</td>\n",
              "      <td>6.01</td>\n",
              "      <td>0.83</td>\n",
              "      <td>F</td>\n",
              "    </tr>\n",
              "    <tr>\n",
              "      <th>9</th>\n",
              "      <td>15</td>\n",
              "      <td>5.08</td>\n",
              "      <td>3.620</td>\n",
              "      <td>3.16</td>\n",
              "      <td>8.54</td>\n",
              "      <td>6.18</td>\n",
              "      <td>0.85</td>\n",
              "      <td>F</td>\n",
              "    </tr>\n",
              "  </tbody>\n",
              "</table>\n",
              "</div>\n",
              "      <button class=\"colab-df-convert\" onclick=\"convertToInteractive('df-a7cc7f49-1540-42ed-aea7-efd6c2af499b')\"\n",
              "              title=\"Convert this dataframe to an interactive table.\"\n",
              "              style=\"display:none;\">\n",
              "        \n",
              "  <svg xmlns=\"http://www.w3.org/2000/svg\" height=\"24px\"viewBox=\"0 0 24 24\"\n",
              "       width=\"24px\">\n",
              "    <path d=\"M0 0h24v24H0V0z\" fill=\"none\"/>\n",
              "    <path d=\"M18.56 5.44l.94 2.06.94-2.06 2.06-.94-2.06-.94-.94-2.06-.94 2.06-2.06.94zm-11 1L8.5 8.5l.94-2.06 2.06-.94-2.06-.94L8.5 2.5l-.94 2.06-2.06.94zm10 10l.94 2.06.94-2.06 2.06-.94-2.06-.94-.94-2.06-.94 2.06-2.06.94z\"/><path d=\"M17.41 7.96l-1.37-1.37c-.4-.4-.92-.59-1.43-.59-.52 0-1.04.2-1.43.59L10.3 9.45l-7.72 7.72c-.78.78-.78 2.05 0 2.83L4 21.41c.39.39.9.59 1.41.59.51 0 1.02-.2 1.41-.59l7.78-7.78 2.81-2.81c.8-.78.8-2.07 0-2.86zM5.41 20L4 18.59l7.72-7.72 1.47 1.35L5.41 20z\"/>\n",
              "  </svg>\n",
              "      </button>\n",
              "      \n",
              "  <style>\n",
              "    .colab-df-container {\n",
              "      display:flex;\n",
              "      flex-wrap:wrap;\n",
              "      gap: 12px;\n",
              "    }\n",
              "\n",
              "    .colab-df-convert {\n",
              "      background-color: #E8F0FE;\n",
              "      border: none;\n",
              "      border-radius: 50%;\n",
              "      cursor: pointer;\n",
              "      display: none;\n",
              "      fill: #1967D2;\n",
              "      height: 32px;\n",
              "      padding: 0 0 0 0;\n",
              "      width: 32px;\n",
              "    }\n",
              "\n",
              "    .colab-df-convert:hover {\n",
              "      background-color: #E2EBFA;\n",
              "      box-shadow: 0px 1px 2px rgba(60, 64, 67, 0.3), 0px 1px 3px 1px rgba(60, 64, 67, 0.15);\n",
              "      fill: #174EA6;\n",
              "    }\n",
              "\n",
              "    [theme=dark] .colab-df-convert {\n",
              "      background-color: #3B4455;\n",
              "      fill: #D2E3FC;\n",
              "    }\n",
              "\n",
              "    [theme=dark] .colab-df-convert:hover {\n",
              "      background-color: #434B5C;\n",
              "      box-shadow: 0px 1px 3px 1px rgba(0, 0, 0, 0.15);\n",
              "      filter: drop-shadow(0px 1px 2px rgba(0, 0, 0, 0.3));\n",
              "      fill: #FFFFFF;\n",
              "    }\n",
              "  </style>\n",
              "\n",
              "      <script>\n",
              "        const buttonEl =\n",
              "          document.querySelector('#df-a7cc7f49-1540-42ed-aea7-efd6c2af499b button.colab-df-convert');\n",
              "        buttonEl.style.display =\n",
              "          google.colab.kernel.accessAllowed ? 'block' : 'none';\n",
              "\n",
              "        async function convertToInteractive(key) {\n",
              "          const element = document.querySelector('#df-a7cc7f49-1540-42ed-aea7-efd6c2af499b');\n",
              "          const dataTable =\n",
              "            await google.colab.kernel.invokeFunction('convertToInteractive',\n",
              "                                                     [key], {});\n",
              "          if (!dataTable) return;\n",
              "\n",
              "          const docLinkHtml = 'Like what you see? Visit the ' +\n",
              "            '<a target=\"_blank\" href=https://colab.research.google.com/notebooks/data_table.ipynb>data table notebook</a>'\n",
              "            + ' to learn more about interactive tables.';\n",
              "          element.innerHTML = '';\n",
              "          dataTable['output_type'] = 'display_data';\n",
              "          await google.colab.output.renderOutput(dataTable, element);\n",
              "          const docLink = document.createElement('div');\n",
              "          docLink.innerHTML = docLinkHtml;\n",
              "          element.appendChild(docLink);\n",
              "        }\n",
              "      </script>\n",
              "    </div>\n",
              "  </div>\n",
              "  "
            ]
          },
          "metadata": {},
          "execution_count": 8
        }
      ]
    },
    {
      "cell_type": "markdown",
      "source": [
        "## Data Visualizations"
      ],
      "metadata": {
        "id": "PxCOc_kAyHst"
      }
    },
    {
      "cell_type": "code",
      "source": [
        "plt.style.use('seaborn-white')\n",
        "corr = df.corr()\n",
        "\n",
        "sns.heatmap(corr,annot=True,cmap='YlOrRd',linewidths=0.2,annot_kws={'size':20})\n",
        "fig=plt.gcf()\n",
        "fig.set_size_inches(14,10)\n",
        "plt.title(\"Overall Correlation CW Predictions\", fontsize=18)\n",
        "plt.xticks(fontsize=14)\n",
        "plt.yticks(fontsize=14)\n",
        "plt.show()"
      ],
      "metadata": {
        "id": "BztT5D3Fb002",
        "colab": {
          "base_uri": "https://localhost:8080/",
          "height": 684
        },
        "outputId": "25a6a0fa-cfd4-4118-a795-4803f637c2c7"
      },
      "execution_count": null,
      "outputs": [
        {
          "output_type": "display_data",
          "data": {
            "text/plain": [
              "<Figure size 1008x720 with 2 Axes>"
            ],
            "image/png": "[encoded data removed]"
          },
          "metadata": {}
        }
      ]
    },
    {
      "cell_type": "code",
      "source": [
        "feature = ['SEX']\n",
        "count = df[feature].value_counts()\n",
        "percent = 100*df[feature].value_counts(normalize=True)\n",
        "data = pd.DataFrame({'jumlah sampel':count, 'persentase':percent.round(1)})\n",
        "print(data)\n",
        "count.plot(kind='bar');"
      ],
      "metadata": {
        "id": "YYRDYYpLb2ok",
        "colab": {
          "base_uri": "https://localhost:8080/",
          "height": 353
        },
        "outputId": "6c1df0a7-3178-4a01-c0de-26a7aab4d64f"
      },
      "execution_count": null,
      "outputs": [
        {
          "output_type": "stream",
          "name": "stdout",
          "text": [
            "     jumlah sampel  persentase\n",
            "SEX                           \n",
            "M               86        50.9\n",
            "F               83        49.1\n"
          ]
        },
        {
          "output_type": "display_data",
          "data": {
            "text/plain": [
              "<Figure size 432x288 with 1 Axes>"
            ],
            "image/png": "[encoded data removed]"
          },
          "metadata": {}
        }
      ]
    },
    {
      "cell_type": "markdown",
      "source": [
        "## Data Preparations\n"
      ],
      "metadata": {
        "id": "0cM9SRfFyNzm"
      }
    },
    {
      "cell_type": "code",
      "source": [
        "df = df.drop(columns='SEX')\n",
        "df = df.drop(columns='photo number')"
      ],
      "metadata": {
        "id": "q0noIfRub4om"
      },
      "execution_count": null,
      "outputs": []
    },
    {
      "cell_type": "code",
      "source": [
        "df.head()"
      ],
      "metadata": {
        "id": "CqBnDmCdAP6B",
        "colab": {
          "base_uri": "https://localhost:8080/",
          "height": 206
        },
        "outputId": "7329f480-1c6e-46e5-8a74-a17e34a84d82"
      },
      "execution_count": null,
      "outputs": [
        {
          "output_type": "execute_result",
          "data": {
            "text/plain": [
              "    ICW    IAW   MCW   LCW   IPW    CW\n",
              "0  5.34  3.740  3.32  8.88  6.29  0.88\n",
              "1  4.75  3.380  2.92  7.99  5.77  0.79\n",
              "2  4.52  3.225  2.85  7.60  5.47  0.75\n",
              "3  4.76  3.540  3.11  8.30  5.95  0.82\n",
              "4  5.15  3.380  3.25  8.51  6.20  0.85"
            ],
            "text/html": [
              "\n",
              "  <div id=\"df-b49bf4dc-00d5-4232-bc4d-4c7bc20f9909\">\n",
              "    <div class=\"colab-df-container\">\n",
              "      <div>\n",
              "<style scoped>\n",
              "    .dataframe tbody tr th:only-of-type {\n",
              "        vertical-align: middle;\n",
              "    }\n",
              "\n",
              "    .dataframe tbody tr th {\n",
              "        vertical-align: top;\n",
              "    }\n",
              "\n",
              "    .dataframe thead th {\n",
              "        text-align: right;\n",
              "    }\n",
              "</style>\n",
              "<table border=\"1\" class=\"dataframe\">\n",
              "  <thead>\n",
              "    <tr style=\"text-align: right;\">\n",
              "      <th></th>\n",
              "      <th>ICW</th>\n",
              "      <th>IAW</th>\n",
              "      <th>MCW</th>\n",
              "      <th>LCW</th>\n",
              "      <th>IPW</th>\n",
              "      <th>CW</th>\n",
              "    </tr>\n",
              "  </thead>\n",
              "  <tbody>\n",
              "    <tr>\n",
              "      <th>0</th>\n",
              "      <td>5.34</td>\n",
              "      <td>3.740</td>\n",
              "      <td>3.32</td>\n",
              "      <td>8.88</td>\n",
              "      <td>6.29</td>\n",
              "      <td>0.88</td>\n",
              "    </tr>\n",
              "    <tr>\n",
              "      <th>1</th>\n",
              "      <td>4.75</td>\n",
              "      <td>3.380</td>\n",
              "      <td>2.92</td>\n",
              "      <td>7.99</td>\n",
              "      <td>5.77</td>\n",
              "      <td>0.79</td>\n",
              "    </tr>\n",
              "    <tr>\n",
              "      <th>2</th>\n",
              "      <td>4.52</td>\n",
              "      <td>3.225</td>\n",
              "      <td>2.85</td>\n",
              "      <td>7.60</td>\n",
              "      <td>5.47</td>\n",
              "      <td>0.75</td>\n",
              "    </tr>\n",
              "    <tr>\n",
              "      <th>3</th>\n",
              "      <td>4.76</td>\n",
              "      <td>3.540</td>\n",
              "      <td>3.11</td>\n",
              "      <td>8.30</td>\n",
              "      <td>5.95</td>\n",
              "      <td>0.82</td>\n",
              "    </tr>\n",
              "    <tr>\n",
              "      <th>4</th>\n",
              "      <td>5.15</td>\n",
              "      <td>3.380</td>\n",
              "      <td>3.25</td>\n",
              "      <td>8.51</td>\n",
              "      <td>6.20</td>\n",
              "      <td>0.85</td>\n",
              "    </tr>\n",
              "  </tbody>\n",
              "</table>\n",
              "</div>\n",
              "      <button class=\"colab-df-convert\" onclick=\"convertToInteractive('df-b49bf4dc-00d5-4232-bc4d-4c7bc20f9909')\"\n",
              "              title=\"Convert this dataframe to an interactive table.\"\n",
              "              style=\"display:none;\">\n",
              "        \n",
              "  <svg xmlns=\"http://www.w3.org/2000/svg\" height=\"24px\"viewBox=\"0 0 24 24\"\n",
              "       width=\"24px\">\n",
              "    <path d=\"M0 0h24v24H0V0z\" fill=\"none\"/>\n",
              "    <path d=\"M18.56 5.44l.94 2.06.94-2.06 2.06-.94-2.06-.94-.94-2.06-.94 2.06-2.06.94zm-11 1L8.5 8.5l.94-2.06 2.06-.94-2.06-.94L8.5 2.5l-.94 2.06-2.06.94zm10 10l.94 2.06.94-2.06 2.06-.94-2.06-.94-.94-2.06-.94 2.06-2.06.94z\"/><path d=\"M17.41 7.96l-1.37-1.37c-.4-.4-.92-.59-1.43-.59-.52 0-1.04.2-1.43.59L10.3 9.45l-7.72 7.72c-.78.78-.78 2.05 0 2.83L4 21.41c.39.39.9.59 1.41.59.51 0 1.02-.2 1.41-.59l7.78-7.78 2.81-2.81c.8-.78.8-2.07 0-2.86zM5.41 20L4 18.59l7.72-7.72 1.47 1.35L5.41 20z\"/>\n",
              "  </svg>\n",
              "      </button>\n",
              "      \n",
              "  <style>\n",
              "    .colab-df-container {\n",
              "      display:flex;\n",
              "      flex-wrap:wrap;\n",
              "      gap: 12px;\n",
              "    }\n",
              "\n",
              "    .colab-df-convert {\n",
              "      background-color: #E8F0FE;\n",
              "      border: none;\n",
              "      border-radius: 50%;\n",
              "      cursor: pointer;\n",
              "      display: none;\n",
              "      fill: #1967D2;\n",
              "      height: 32px;\n",
              "      padding: 0 0 0 0;\n",
              "      width: 32px;\n",
              "    }\n",
              "\n",
              "    .colab-df-convert:hover {\n",
              "      background-color: #E2EBFA;\n",
              "      box-shadow: 0px 1px 2px rgba(60, 64, 67, 0.3), 0px 1px 3px 1px rgba(60, 64, 67, 0.15);\n",
              "      fill: #174EA6;\n",
              "    }\n",
              "\n",
              "    [theme=dark] .colab-df-convert {\n",
              "      background-color: #3B4455;\n",
              "      fill: #D2E3FC;\n",
              "    }\n",
              "\n",
              "    [theme=dark] .colab-df-convert:hover {\n",
              "      background-color: #434B5C;\n",
              "      box-shadow: 0px 1px 3px 1px rgba(0, 0, 0, 0.15);\n",
              "      filter: drop-shadow(0px 1px 2px rgba(0, 0, 0, 0.3));\n",
              "      fill: #FFFFFF;\n",
              "    }\n",
              "  </style>\n",
              "\n",
              "      <script>\n",
              "        const buttonEl =\n",
              "          document.querySelector('#df-b49bf4dc-00d5-4232-bc4d-4c7bc20f9909 button.colab-df-convert');\n",
              "        buttonEl.style.display =\n",
              "          google.colab.kernel.accessAllowed ? 'block' : 'none';\n",
              "\n",
              "        async function convertToInteractive(key) {\n",
              "          const element = document.querySelector('#df-b49bf4dc-00d5-4232-bc4d-4c7bc20f9909');\n",
              "          const dataTable =\n",
              "            await google.colab.kernel.invokeFunction('convertToInteractive',\n",
              "                                                     [key], {});\n",
              "          if (!dataTable) return;\n",
              "\n",
              "          const docLinkHtml = 'Like what you see? Visit the ' +\n",
              "            '<a target=\"_blank\" href=https://colab.research.google.com/notebooks/data_table.ipynb>data table notebook</a>'\n",
              "            + ' to learn more about interactive tables.';\n",
              "          element.innerHTML = '';\n",
              "          dataTable['output_type'] = 'display_data';\n",
              "          await google.colab.output.renderOutput(dataTable, element);\n",
              "          const docLink = document.createElement('div');\n",
              "          docLink.innerHTML = docLinkHtml;\n",
              "          element.appendChild(docLink);\n",
              "        }\n",
              "      </script>\n",
              "    </div>\n",
              "  </div>\n",
              "  "
            ]
          },
          "metadata": {},
          "execution_count": 12
        }
      ]
    },
    {
      "cell_type": "code",
      "source": [
        "X = df[df.columns[:-1]]\n",
        "y = np.array(df['CW'])"
      ],
      "metadata": {
        "id": "H_Y13f0ideNf"
      },
      "execution_count": null,
      "outputs": []
    },
    {
      "cell_type": "code",
      "source": [
        "scaler = MinMaxScaler(copy=True, feature_range=(0, 1))\n",
        "X = scaler.fit_transform(X)"
      ],
      "metadata": {
        "id": "WuJaN4AhbIOF"
      },
      "execution_count": null,
      "outputs": []
    },
    {
      "cell_type": "code",
      "source": [
        "X"
      ],
      "metadata": {
        "id": "Vh2Kxm8D7QYR",
        "colab": {
          "base_uri": "https://localhost:8080/"
        },
        "outputId": "1a304f47-aad6-40ad-a327-ce56e579acd1"
      },
      "execution_count": null,
      "outputs": [
        {
          "output_type": "execute_result",
          "data": {
            "text/plain": [
              "array([[0.64864865, 0.56716418, 0.64583333, 0.62195122, 0.56818182],\n",
              "       [0.25      , 0.29850746, 0.22916667, 0.2601626 , 0.27272727],\n",
              "       [0.09459459, 0.18283582, 0.15625   , 0.10162602, 0.10227273],\n",
              "       [0.25675676, 0.41791045, 0.42708333, 0.38617886, 0.375     ],\n",
              "       [0.52027027, 0.29850746, 0.57291667, 0.47154472, 0.51704545],\n",
              "       [0.58783784, 0.56716418, 0.5       , 0.57317073, 0.59659091],\n",
              "       [0.5       , 0.45522388, 0.5       , 0.53658537, 0.5       ],\n",
              "       [0.79054054, 0.59701493, 0.79166667, 0.7804878 , 0.76704545],\n",
              "       [0.39864865, 0.35820896, 0.41666667, 0.43495935, 0.40909091],\n",
              "       [0.47297297, 0.47761194, 0.47916667, 0.48373984, 0.50568182],\n",
              "       [0.62837838, 0.6641791 , 0.59375   , 0.61382114, 0.625     ],\n",
              "       [0.46621622, 0.5       , 0.44791667, 0.46341463, 0.47727273],\n",
              "       [0.14189189, 0.23880597, 0.15625   , 0.11788618, 0.11931818],\n",
              "       [0.26351351, 0.3880597 , 0.36458333, 0.24390244, 0.19886364],\n",
              "       [0.4527027 , 0.46268657, 0.41666667, 0.40650407, 0.43181818],\n",
              "       [0.62837838, 0.6119403 , 0.30208333, 0.56910569, 0.625     ],\n",
              "       [0.34459459, 0.39552239, 0.41666667, 0.34552846, 0.34488636],\n",
              "       [0.4527027 , 0.39552239, 0.3125    , 0.36178862, 0.38011364],\n",
              "       [0.2972973 , 0.20149254, 0.19791667, 0.27642276, 0.30738636],\n",
              "       [0.46621622, 0.41791045, 0.48958333, 0.41463415, 0.39772727],\n",
              "       [0.33108108, 0.32089552, 0.05208333, 0.25203252, 0.30625   ],\n",
              "       [0.42567568, 0.47761194, 0.34375   , 0.39837398, 0.40909091],\n",
              "       [0.79054054, 0.7238806 , 0.84375   , 0.79674797, 0.76136364],\n",
              "       [0.35135135, 0.30597015, 0.23958333, 0.27642276, 0.33522727],\n",
              "       [0.34459459, 0.37313433, 0.375     , 0.31707317, 0.35227273],\n",
              "       [0.08108108, 0.11940299, 0.05208333, 0.        , 0.        ],\n",
              "       [0.20945946, 0.25074627, 0.28125   , 0.24796748, 0.34659091],\n",
              "       [0.38513514, 0.37313433, 0.38541667, 0.3902439 , 0.34090909],\n",
              "       [0.32432432, 0.35820896, 0.375     , 0.32520325, 0.27840909],\n",
              "       [0.20945946, 0.19402985, 0.11458333, 0.09349593, 0.08522727],\n",
              "       [0.41216216, 0.41044776, 0.14583333, 0.42276423, 0.35795455],\n",
              "       [0.22972973, 0.17910448, 0.34375   , 0.28455285, 0.34090909],\n",
              "       [0.63513514, 0.57462687, 0.52083333, 0.6097561 , 0.51704545],\n",
              "       [0.95945946, 0.85820896, 0.92708333, 0.95934959, 0.94886364],\n",
              "       [0.57432432, 0.55970149, 0.625     , 0.52439024, 0.54545455],\n",
              "       [0.28378378, 0.29104478, 0.26041667, 0.27235772, 0.1875    ],\n",
              "       [0.38513514, 0.38059701, 0.35416667, 0.37804878, 0.41477273],\n",
              "       [0.82432432, 0.70895522, 0.63541667, 0.82520325, 0.82954545],\n",
              "       [0.18243243, 0.36567164, 0.1875    , 0.21544715, 0.17613636],\n",
              "       [0.35135135, 0.44776119, 0.33333333, 0.33333333, 0.25      ],\n",
              "       [0.38513514, 0.35074627, 0.375     , 0.37804878, 0.33522727],\n",
              "       [0.42567568, 0.41044776, 0.41666667, 0.41056911, 0.39772727],\n",
              "       [0.43918919, 0.29104478, 0.47916667, 0.47154472, 0.46590909],\n",
              "       [0.20945946, 0.2761194 , 0.23958333, 0.15853659, 0.17045455],\n",
              "       [0.18918919, 0.23880597, 0.16666667, 0.13821138, 0.1875    ],\n",
              "       [0.46621622, 0.40298507, 0.45833333, 0.46341463, 0.46590909],\n",
              "       [0.44594595, 0.50746269, 0.58333333, 0.45528455, 0.46590909],\n",
              "       [0.48648649, 0.50746269, 0.47916667, 0.64227642, 0.53409091],\n",
              "       [0.37162162, 0.40298507, 0.45833333, 0.52439024, 0.39204545],\n",
              "       [0.7972973 , 0.48507463, 0.59375   , 0.38211382, 0.51704545],\n",
              "       [0.86486486, 0.74626866, 0.9375    , 0.87235772, 0.88636364],\n",
              "       [0.75      , 0.60447761, 0.57291667, 0.56504065, 0.59659091],\n",
              "       [0.41216216, 0.5       , 0.57291667, 0.57723577, 0.42045455],\n",
              "       [0.2972973 , 0.32835821, 0.41666667, 0.35772358, 0.28409091],\n",
              "       [0.72297297, 0.62686567, 0.64583333, 0.69918699, 0.72727273],\n",
              "       [0.0472973 , 0.13432836, 0.26041667, 0.07317073, 0.04545455],\n",
              "       [0.31081081, 0.15671642, 0.13541667, 0.22764228, 0.19318182],\n",
              "       [0.83108108, 0.71641791, 0.73958333, 0.82520325, 0.82954545],\n",
              "       [0.33108108, 0.41044776, 0.35416667, 0.52439024, 0.50568182],\n",
              "       [0.40540541, 0.42537313, 0.38541667, 0.46747967, 0.43181818],\n",
              "       [0.62162162, 0.55970149, 0.65625   , 0.62398374, 0.625     ],\n",
              "       [0.36486486, 0.32835821, 0.28125   , 0.16666667, 0.32954545],\n",
              "       [0.50675676, 0.46268657, 0.53125   , 0.29674797, 0.50511364],\n",
              "       [0.14864865, 0.20149254, 0.17708333, 0.12398374, 0.11363636],\n",
              "       [0.26351351, 0.25373134, 0.22916667, 0.24552846, 0.25568182],\n",
              "       [0.29054054, 0.35820896, 0.28125   , 0.48373984, 0.30113636],\n",
              "       [0.25675676, 0.3358209 , 0.1875    , 0.26219512, 0.26704545],\n",
              "       [0.64864865, 0.49253731, 0.52083333, 0.55365854, 0.54545455],\n",
              "       [0.60135135, 0.61940299, 0.4375    , 0.54471545, 0.51704545],\n",
              "       [0.31756757, 0.47014925, 0.39583333, 0.41869919, 0.44318182],\n",
              "       [0.55405405, 0.48507463, 0.53125   , 0.51219512, 0.49431818],\n",
              "       [0.10135135, 0.15671642, 0.10416667, 0.09756098, 0.10227273],\n",
              "       [0.22297297, 0.2761194 , 0.26041667, 0.19512195, 0.24431818],\n",
              "       [0.83108108, 0.70895522, 0.57291667, 0.83130081, 0.83522727],\n",
              "       [0.        , 0.        , 0.        , 0.01056911, 0.01704545],\n",
              "       [0.33108108, 0.32089552, 0.27083333, 0.3402439 , 0.32954545],\n",
              "       [0.08108108, 0.17164179, 0.07291667, 0.06219512, 0.03409091],\n",
              "       [0.39864865, 0.36567164, 0.375     , 0.39430894, 0.34090909],\n",
              "       [0.52702703, 0.44776119, 0.47916667, 0.50406504, 0.48295455],\n",
              "       [0.13513514, 0.20149254, 0.14583333, 0.14349593, 0.14772727],\n",
              "       [0.4527027 , 0.58208955, 0.63541667, 0.62195122, 0.57954545],\n",
              "       [1.        , 0.88059701, 0.92708333, 1.        , 1.        ],\n",
              "       [0.63513514, 0.57462687, 0.48958333, 0.61097561, 0.63636364],\n",
              "       [0.64189189, 0.74402985, 0.59375   , 0.35365854, 0.65227273],\n",
              "       [0.55540541, 0.70895522, 0.5625    , 0.29674797, 0.61079545],\n",
              "       [0.42567568, 0.74477612, 0.596875  , 0.37398374, 0.65227273],\n",
              "       [0.25675676, 0.54477612, 0.05208333, 0.41463415, 0.38068182],\n",
              "       [0.275     , 0.45820896, 0.35416667, 0.24268293, 0.26647727],\n",
              "       [0.42567568, 0.70149254, 1.        , 0.79268293, 0.77840909],\n",
              "       [0.43243243, 0.58955224, 0.4375    , 0.40609756, 0.43181818],\n",
              "       [0.41216216, 0.61940299, 0.63541667, 0.45934959, 0.47727273],\n",
              "       [0.25675676, 0.69626866, 0.59375   , 0.58536585, 0.51704545],\n",
              "       [0.72972973, 0.85820896, 0.71354167, 0.69918699, 0.76363636],\n",
              "       [0.67567568, 0.75373134, 0.71458333, 0.70325203, 0.76704545],\n",
              "       [0.35135135, 0.45522388, 0.4375    , 0.33536585, 0.36931818],\n",
              "       [0.47972973, 0.86567164, 0.44166667, 0.4796748 , 0.47159091],\n",
              "       [0.40540541, 0.67164179, 0.71354167, 0.59349593, 0.76875   ],\n",
              "       [0.55405405, 0.67164179, 0.6875    , 0.56504065, 0.55681818],\n",
              "       [0.44594595, 0.61940299, 0.45833333, 0.35772358, 0.54545455],\n",
              "       [0.71621622, 0.84552239, 0.71458333, 0.71138211, 0.76988636],\n",
              "       [0.39189189, 0.53731343, 0.61458333, 0.43089431, 0.42045455],\n",
              "       [0.31283784, 0.50746269, 0.34375   , 0.3699187 , 0.51136364],\n",
              "       [0.58108108, 0.91044776, 0.875     , 0.73577236, 0.71022727],\n",
              "       [0.50675676, 0.64925373, 0.48125   , 0.32520325, 0.51477273],\n",
              "       [0.66216216, 0.88059701, 0.92708333, 0.6597561 , 0.79545455],\n",
              "       [0.6027027 , 0.75373134, 0.38541667, 0.53658537, 0.59772727],\n",
              "       [0.71621622, 0.84477612, 0.71458333, 0.60162602, 0.76704545],\n",
              "       [0.37837838, 0.6641791 , 0.625     , 0.58943089, 0.61931818],\n",
              "       [0.58783784, 0.97014925, 0.71875   , 0.60162602, 0.72727273],\n",
              "       [0.29054054, 0.58955224, 0.40625   , 0.26829268, 0.46022727],\n",
              "       [0.31081081, 0.75373134, 0.51041667, 0.42682927, 0.41477273],\n",
              "       [0.60135135, 0.83208955, 0.6875    , 0.6597561 , 0.72215909],\n",
              "       [0.52094595, 0.6619403 , 0.875     , 0.45691057, 0.77272727],\n",
              "       [0.71621622, 0.87910448, 0.78125   , 0.74065041, 0.80454545],\n",
              "       [0.37837838, 0.55970149, 0.40625   , 0.3495935 , 0.39772727],\n",
              "       [0.59594595, 0.70149254, 0.596875  , 0.45121951, 0.64147727],\n",
              "       [0.60135135, 0.86567164, 0.94791667, 0.73170732, 0.78409091],\n",
              "       [0.64324324, 0.67164179, 0.596875  , 0.49593496, 0.5       ],\n",
              "       [0.67702703, 0.8119403 , 0.703125  , 0.65934959, 0.94318182],\n",
              "       [0.64189189, 0.50746269, 0.4375    , 0.49756098, 0.625     ],\n",
              "       [0.47972973, 0.62835821, 0.54166667, 0.41626016, 0.57386364],\n",
              "       [0.4527027 , 0.55223881, 0.58541667, 0.53861789, 0.76704545],\n",
              "       [0.56081081, 0.67686567, 0.57291667, 0.40243902, 0.54545455],\n",
              "       [0.6027027 , 0.72985075, 0.46875   , 0.60162602, 0.63636364],\n",
              "       [0.68445946, 0.7238806 , 0.65625   , 0.6195122 , 0.63068182],\n",
              "       [0.52094595, 0.71641791, 0.77083333, 0.45731707, 0.65909091],\n",
              "       [0.33108108, 0.37313433, 0.1875    , 0.16260163, 0.125     ],\n",
              "       [0.43851351, 0.58955224, 0.36458333, 0.45528455, 0.5       ],\n",
              "       [0.33108108, 0.6641791 , 0.50729167, 0.27235772, 0.51704545],\n",
              "       [0.40540541, 0.51492537, 0.75      , 0.49796748, 0.73295455],\n",
              "       [0.47972973, 0.73880597, 0.46875   , 0.44715447, 0.5       ],\n",
              "       [0.08108108, 0.71641791, 0.23958333, 0.42682927, 0.52840909],\n",
              "       [0.65540541, 0.86567164, 0.47916667, 0.50121951, 0.8125    ],\n",
              "       [0.9527027 , 0.91268657, 0.57291667, 0.78130081, 0.84090909],\n",
              "       [0.36486486, 0.56716418, 0.25      , 0.3699187 , 0.39772727],\n",
              "       [0.62837838, 1.        , 0.703125  , 0.81707317, 0.86363636],\n",
              "       [0.61486486, 0.7641791 , 0.60416667, 0.62195122, 0.6875    ],\n",
              "       [0.58783784, 0.60447761, 0.36458333, 0.61910569, 0.42045455],\n",
              "       [0.18243243, 0.39552239, 0.078125  , 0.03821138, 0.07045455],\n",
              "       [0.77702703, 0.85820896, 0.58333333, 0.66260163, 0.68181818],\n",
              "       [0.64864865, 0.7238806 , 0.66666667, 0.52845528, 0.69886364],\n",
              "       [0.31283784, 0.55223881, 0.40625   , 0.23577236, 0.34659091],\n",
              "       [0.52027027, 0.64328358, 0.35416667, 0.47560976, 0.53409091],\n",
              "       [0.93918919, 0.97014925, 0.63541667, 0.68699187, 0.97045455],\n",
              "       [0.39189189, 0.54179104, 0.38541667, 0.46341463, 0.35227273],\n",
              "       [0.43243243, 0.41044776, 0.46875   , 0.45934959, 0.59659091],\n",
              "       [0.58108108, 0.54477612, 0.403125  , 0.37601626, 0.44886364],\n",
              "       [0.37837838, 0.45522388, 0.36458333, 0.33577236, 0.39090909],\n",
              "       [0.49324324, 0.59402985, 0.57291667, 0.3902439 , 0.48863636],\n",
              "       [0.23378378, 0.40671642, 0.234375  , 0.20162602, 0.225     ],\n",
              "       [0.94594595, 0.86567164, 0.78125   , 0.83333333, 0.86931818],\n",
              "       [0.56148649, 0.59701493, 0.47916667, 0.47560976, 0.48863636],\n",
              "       [0.81756757, 0.84328358, 0.75      , 0.7402439 , 0.76704545],\n",
              "       [0.64324324, 0.74626866, 0.34375   , 0.57723577, 0.71022727],\n",
              "       [0.74324324, 0.63432836, 0.65625   , 0.61869919, 0.69431818],\n",
              "       [0.45945946, 0.73880597, 0.64583333, 0.69512195, 0.61931818],\n",
              "       [0.26351351, 0.68656716, 0.42708333, 0.49593496, 0.57954545],\n",
              "       [0.50675676, 0.64328358, 0.48125   , 0.45691057, 0.52784091],\n",
              "       [0.51540541, 0.64925373, 0.503125  , 0.56910569, 0.59090909],\n",
              "       [0.39391892, 0.5761194 , 0.52083333, 0.37601626, 0.46022727],\n",
              "       [0.35810811, 0.54477612, 0.41666667, 0.38617886, 0.26704545],\n",
              "       [0.2972973 , 0.52985075, 0.41666667, 0.30487805, 0.35227273],\n",
              "       [0.08108108, 0.29850746, 0.11666667, 0.05284553, 0.11931818],\n",
              "       [0.37837838, 0.6641791 , 0.41666667, 0.37398374, 0.43181818],\n",
              "       [0.59594595, 0.73880597, 0.64583333, 0.58130081, 0.63068182],\n",
              "       [0.83783784, 0.94776119, 0.83333333, 0.79268293, 0.88636364],\n",
              "       [0.89189189, 0.98507463, 0.9375    , 0.86585366, 0.9375    ],\n",
              "       [0.31756757, 0.52238806, 0.36458333, 0.30081301, 0.35227273],\n",
              "       [0.14864865, 0.3880597 , 0.20833333, 0.1300813 , 0.20454545]])"
            ]
          },
          "metadata": {},
          "execution_count": 15
        }
      ]
    },
    {
      "cell_type": "markdown",
      "source": [
        "## Split Data"
      ],
      "metadata": {
        "id": "hwQ767pKybHU"
      }
    },
    {
      "cell_type": "code",
      "source": [
        "X_train, X_test, y_train, y_test = train_test_split(X, y, test_size=0.20, random_state=60)"
      ],
      "metadata": {
        "id": "ChJ8nKUaeM6u"
      },
      "execution_count": null,
      "outputs": []
    },
    {
      "cell_type": "code",
      "source": [
        "len(X_train)"
      ],
      "metadata": {
        "id": "UrQjVRGyyRif",
        "colab": {
          "base_uri": "https://localhost:8080/"
        },
        "outputId": "cfb07fd0-5d66-4856-bea4-d805d3182438"
      },
      "execution_count": null,
      "outputs": [
        {
          "output_type": "execute_result",
          "data": {
            "text/plain": [
              "135"
            ]
          },
          "metadata": {},
          "execution_count": 17
        }
      ]
    },
    {
      "cell_type": "code",
      "source": [
        "len(X_test)"
      ],
      "metadata": {
        "id": "25tphFGZ2QDA",
        "colab": {
          "base_uri": "https://localhost:8080/"
        },
        "outputId": "40486412-9aba-4915-ba52-8bab5fd1cca6"
      },
      "execution_count": null,
      "outputs": [
        {
          "output_type": "execute_result",
          "data": {
            "text/plain": [
              "34"
            ]
          },
          "metadata": {},
          "execution_count": 18
        }
      ]
    },
    {
      "cell_type": "code",
      "source": [
        "len(y_test)"
      ],
      "metadata": {
        "id": "sTtYk6iF5g64",
        "colab": {
          "base_uri": "https://localhost:8080/"
        },
        "outputId": "28a71fa4-5fac-4fa9-a7c7-f0b514ca069b"
      },
      "execution_count": null,
      "outputs": [
        {
          "output_type": "execute_result",
          "data": {
            "text/plain": [
              "34"
            ]
          },
          "metadata": {},
          "execution_count": 19
        }
      ]
    },
    {
      "cell_type": "markdown",
      "source": [
        "# Modeling"
      ],
      "metadata": {
        "id": "CutidIGVygmz"
      }
    },
    {
      "cell_type": "markdown",
      "source": [
        "## CatBoost Regressor"
      ],
      "metadata": {
        "id": "swbqpkTKno5p"
      }
    },
    {
      "cell_type": "code",
      "source": [
        "from sklearn.linear_model import LogisticRegression\n",
        "model = LogisticRegression(C=0.001, class_weight='balanced')"
      ],
      "metadata": {
        "id": "_Dm0WtjBdYbu"
      },
      "execution_count": null,
      "outputs": []
    },
    {
      "cell_type": "code",
      "source": [
        "model.fit(X_train,y_train)"
      ],
      "metadata": {
        "id": "S_VJNOC-eRMW",
        "colab": {
          "base_uri": "https://localhost:8080/",
          "height": 311
        },
        "outputId": "95544756-a756-426a-c700-b2b90b77e448"
      },
      "execution_count": null,
      "outputs": [
        {
          "output_type": "error",
          "ename": "ValueError",
          "evalue": "ignored",
          "traceback": [
            "\u001b[0;31m---------------------------------------------------------------------------\u001b[0m",
            "\u001b[0;31mValueError\u001b[0m                                Traceback (most recent call last)",
            "\u001b[0;32m<ipython-input-34-b7a8c64777c1>\u001b[0m in \u001b[0;36m<module>\u001b[0;34m()\u001b[0m\n\u001b[0;32m----> 1\u001b[0;31m \u001b[0mmodel\u001b[0m\u001b[0;34m.\u001b[0m\u001b[0mfit\u001b[0m\u001b[0;34m(\u001b[0m\u001b[0mX_train\u001b[0m\u001b[0;34m,\u001b[0m\u001b[0my_train\u001b[0m\u001b[0;34m)\u001b[0m\u001b[0;34m\u001b[0m\u001b[0;34m\u001b[0m\u001b[0m\n\u001b[0m",
            "\u001b[0;32m/usr/local/lib/python3.7/dist-packages/sklearn/linear_model/_logistic.py\u001b[0m in \u001b[0;36mfit\u001b[0;34m(self, X, y, sample_weight)\u001b[0m\n\u001b[1;32m   1514\u001b[0m             \u001b[0maccept_large_sparse\u001b[0m\u001b[0;34m=\u001b[0m\u001b[0msolver\u001b[0m \u001b[0;32mnot\u001b[0m \u001b[0;32min\u001b[0m \u001b[0;34m[\u001b[0m\u001b[0;34m\"liblinear\"\u001b[0m\u001b[0;34m,\u001b[0m \u001b[0;34m\"sag\"\u001b[0m\u001b[0;34m,\u001b[0m \u001b[0;34m\"saga\"\u001b[0m\u001b[0;34m]\u001b[0m\u001b[0;34m,\u001b[0m\u001b[0;34m\u001b[0m\u001b[0;34m\u001b[0m\u001b[0m\n\u001b[1;32m   1515\u001b[0m         )\n\u001b[0;32m-> 1516\u001b[0;31m         \u001b[0mcheck_classification_targets\u001b[0m\u001b[0;34m(\u001b[0m\u001b[0my\u001b[0m\u001b[0;34m)\u001b[0m\u001b[0;34m\u001b[0m\u001b[0;34m\u001b[0m\u001b[0m\n\u001b[0m\u001b[1;32m   1517\u001b[0m         \u001b[0mself\u001b[0m\u001b[0;34m.\u001b[0m\u001b[0mclasses_\u001b[0m \u001b[0;34m=\u001b[0m \u001b[0mnp\u001b[0m\u001b[0;34m.\u001b[0m\u001b[0munique\u001b[0m\u001b[0;34m(\u001b[0m\u001b[0my\u001b[0m\u001b[0;34m)\u001b[0m\u001b[0;34m\u001b[0m\u001b[0;34m\u001b[0m\u001b[0m\n\u001b[1;32m   1518\u001b[0m \u001b[0;34m\u001b[0m\u001b[0m\n",
            "\u001b[0;32m/usr/local/lib/python3.7/dist-packages/sklearn/utils/multiclass.py\u001b[0m in \u001b[0;36mcheck_classification_targets\u001b[0;34m(y)\u001b[0m\n\u001b[1;32m    195\u001b[0m         \u001b[0;34m\"multilabel-sequences\"\u001b[0m\u001b[0;34m,\u001b[0m\u001b[0;34m\u001b[0m\u001b[0;34m\u001b[0m\u001b[0m\n\u001b[1;32m    196\u001b[0m     ]:\n\u001b[0;32m--> 197\u001b[0;31m         \u001b[0;32mraise\u001b[0m \u001b[0mValueError\u001b[0m\u001b[0;34m(\u001b[0m\u001b[0;34m\"Unknown label type: %r\"\u001b[0m \u001b[0;34m%\u001b[0m \u001b[0my_type\u001b[0m\u001b[0;34m)\u001b[0m\u001b[0;34m\u001b[0m\u001b[0;34m\u001b[0m\u001b[0m\n\u001b[0m\u001b[1;32m    198\u001b[0m \u001b[0;34m\u001b[0m\u001b[0m\n\u001b[1;32m    199\u001b[0m \u001b[0;34m\u001b[0m\u001b[0m\n",
            "\u001b[0;31mValueError\u001b[0m: Unknown label type: 'continuous'"
          ]
        }
      ]
    },
    {
      "cell_type": "code",
      "source": [
        "y_pred = model.predict(X_test)\n",
        "mse_cb1 = mean_squared_error(y_pred,y_test)\n",
        "mae_cb1 = mean_absolute_error(y_pred,y_test)\n",
        "rmse_cb1 = np.sqrt(mse_cb1)\n",
        "r_cb1, _ =  pearsonr(y_pred,y_test)\n",
        "print(\"Means Absolute Error (MAE) = \" + str(mae_cb1))\n",
        "print(\"Root Means Squared Error (RMSE) = \" + str(rmse_cb1))\n",
        "print(\"Pearsonr Correlations Coefficient = \" + str(r_cb1))\n",
        "plt.figure(figsize=(5,5))\n",
        "plt.scatter(y_test, y_pred)\n",
        "p1 = max(max(y_pred), max(y_test))\n",
        "p2 = min(min(y_pred), min(y_test))\n",
        "plt.xlabel(\"actual CW\")\n",
        "plt.ylabel(\"predicted CW\")\n",
        "plt.plot([p1, p2], [p1, p2], 'b-')\n",
        "plt.title(\"CatBoost Regression\")"
      ],
      "metadata": {
        "id": "zSjszdCrepa7",
        "colab": {
          "base_uri": "https://localhost:8080/",
          "height": 235
        },
        "outputId": "8b626c56-9c44-4bea-af24-e262589017bb"
      },
      "execution_count": null,
      "outputs": [
        {
          "output_type": "error",
          "ename": "AttributeError",
          "evalue": "ignored",
          "traceback": [
            "\u001b[0;31m---------------------------------------------------------------------------\u001b[0m",
            "\u001b[0;31mAttributeError\u001b[0m                            Traceback (most recent call last)",
            "\u001b[0;32m<ipython-input-32-f44e63e8a7db>\u001b[0m in \u001b[0;36m<module>\u001b[0;34m()\u001b[0m\n\u001b[0;32m----> 1\u001b[0;31m \u001b[0my_pred\u001b[0m \u001b[0;34m=\u001b[0m \u001b[0mmodel\u001b[0m\u001b[0;34m.\u001b[0m\u001b[0mpredict\u001b[0m\u001b[0;34m(\u001b[0m\u001b[0mX_test\u001b[0m\u001b[0;34m)\u001b[0m\u001b[0;34m\u001b[0m\u001b[0;34m\u001b[0m\u001b[0m\n\u001b[0m\u001b[1;32m      2\u001b[0m \u001b[0mmse_cb1\u001b[0m \u001b[0;34m=\u001b[0m \u001b[0mmean_squared_error\u001b[0m\u001b[0;34m(\u001b[0m\u001b[0my_pred\u001b[0m\u001b[0;34m,\u001b[0m\u001b[0my_test\u001b[0m\u001b[0;34m)\u001b[0m\u001b[0;34m\u001b[0m\u001b[0;34m\u001b[0m\u001b[0m\n\u001b[1;32m      3\u001b[0m \u001b[0mmae_cb1\u001b[0m \u001b[0;34m=\u001b[0m \u001b[0mmean_absolute_error\u001b[0m\u001b[0;34m(\u001b[0m\u001b[0my_pred\u001b[0m\u001b[0;34m,\u001b[0m\u001b[0my_test\u001b[0m\u001b[0;34m)\u001b[0m\u001b[0;34m\u001b[0m\u001b[0;34m\u001b[0m\u001b[0m\n\u001b[1;32m      4\u001b[0m \u001b[0mrmse_cb1\u001b[0m \u001b[0;34m=\u001b[0m \u001b[0mnp\u001b[0m\u001b[0;34m.\u001b[0m\u001b[0msqrt\u001b[0m\u001b[0;34m(\u001b[0m\u001b[0mmse_cb1\u001b[0m\u001b[0;34m)\u001b[0m\u001b[0;34m\u001b[0m\u001b[0;34m\u001b[0m\u001b[0m\n\u001b[1;32m      5\u001b[0m \u001b[0mr_cb1\u001b[0m\u001b[0;34m,\u001b[0m \u001b[0m_\u001b[0m \u001b[0;34m=\u001b[0m  \u001b[0mpearsonr\u001b[0m\u001b[0;34m(\u001b[0m\u001b[0my_pred\u001b[0m\u001b[0;34m,\u001b[0m\u001b[0my_test\u001b[0m\u001b[0;34m)\u001b[0m\u001b[0;34m\u001b[0m\u001b[0;34m\u001b[0m\u001b[0m\n",
            "\u001b[0;31mAttributeError\u001b[0m: 'PolynomialFeatures' object has no attribute 'predict'"
          ]
        }
      ]
    },
    {
      "cell_type": "code",
      "source": [
        "y_pred = np.array(y_pred)"
      ],
      "metadata": {
        "id": "JNoWlyqnVNDR"
      },
      "execution_count": null,
      "outputs": []
    },
    {
      "cell_type": "code",
      "source": [
        "random_index = np.random.randint(0,X_test.shape[1])\n",
        "print(\"Prediction made by CatBoost Regressor:\")\n",
        "print(\"\\t\\tCW Predicted:  \", np.round(model.predict(X_test[random_index:random_index+1])[0],5))\n",
        "print(\"\\t\\tActual Widht:  \", np.round(y_test[random_index],5))"
      ],
      "metadata": {
        "id": "e-5teRa0fI6c"
      },
      "execution_count": null,
      "outputs": []
    },
    {
      "cell_type": "markdown",
      "source": [
        "## Linear Regression"
      ],
      "metadata": {
        "id": "bwJySTQinzzY"
      }
    },
    {
      "cell_type": "code",
      "source": [
        "model1 = LinearRegression()\n",
        "model1.fit(X_train,y_train)"
      ],
      "metadata": {
        "id": "z1xNvQyOfpEk"
      },
      "execution_count": null,
      "outputs": []
    },
    {
      "cell_type": "code",
      "source": [
        "y_pred = model1.predict(X_test)\n",
        "mse_lr1 = mean_squared_error(y_pred,y_test)\n",
        "mae_lr1 = mean_absolute_error(y_pred,y_test)\n",
        "rmse_lr1 = np.sqrt(mse_lr1)\n",
        "r_lr1, _ =  pearsonr(y_pred,y_test)\n",
        "print(\"Means Absolute Error (MAE) = \" + str(mae_lr1))\n",
        "print(\"Root Means Squared Error (RMSE) = \" + str(rmse_lr1))\n",
        "print(\"Pearsonr Correlations Coefficient = \" + str(r_lr1))\n",
        "plt.figure(figsize=(5,5))\n",
        "plt.scatter(y_test, y_pred)\n",
        "p1 = max(max(y_pred), max(y_test))\n",
        "p2 = min(min(y_pred), min(y_test))\n",
        "plt.xlabel(\"actual CW\")\n",
        "plt.ylabel(\"predicted CW\")\n",
        "plt.plot([p1, p2], [p1, p2], 'b-')\n",
        "plt.title(\"Linear Regression\")"
      ],
      "metadata": {
        "id": "DowdWo01f7HN"
      },
      "execution_count": null,
      "outputs": []
    },
    {
      "cell_type": "code",
      "source": [
        "random_index = np.random.randint(0,X_test.shape[1])\n",
        "print(\"Prediction made by Linear Regression:\")\n",
        "print(\"\\t\\tCW Predicted:  \", np.round(model.predict(X_test[random_index:random_index+1])[0],5))\n",
        "print(\"\\t\\tActual Widht:  \", np.round(y_test[random_index],5))"
      ],
      "metadata": {
        "id": "pJkasKbvgBV7"
      },
      "execution_count": null,
      "outputs": []
    },
    {
      "cell_type": "markdown",
      "source": [
        "## XGB Regression"
      ],
      "metadata": {
        "id": "DY-QpYgLn4cI"
      }
    },
    {
      "cell_type": "code",
      "source": [
        "model2 = XGBRegressor()\n",
        "model2.fit(X_train, y_train)"
      ],
      "metadata": {
        "id": "FkKWSHrdgD0S"
      },
      "execution_count": null,
      "outputs": []
    },
    {
      "cell_type": "code",
      "source": [
        "y_pred = model2.predict(X_test)\n",
        "mae_xgb1 = mean_absolute_error(y_pred,y_test)\n",
        "mse_xgb1 = mean_squared_error(y_pred,y_test)\n",
        "rmse_xgb1 = np.sqrt(mse_xgb1)\n",
        "r_xgb1, _ =  pearsonr(y_pred,y_test)\n",
        "print(\"Means Absolute Error (MAE) = \" + str(mae_xgb1))\n",
        "print(\"Root Means Squared Error (RMSE) = \" + str(rmse_xgb1))\n",
        "print(\"Pearsonr Correlations Coefficient = \" + str(r_xgb1))\n",
        "plt.figure(figsize=(5,5))\n",
        "plt.scatter(y_test, y_pred)\n",
        "p1 = max(max(y_pred), max(y_test))\n",
        "p2 = min(min(y_pred), min(y_test))\n",
        "plt.xlabel(\"actual CW\")\n",
        "plt.ylabel(\"predicted CW\")\n",
        "plt.plot([p1, p2], [p1, p2], 'b-')\n",
        "plt.title(\"XGBoost Regression\")"
      ],
      "metadata": {
        "id": "T1KSf0G6gi9V"
      },
      "execution_count": null,
      "outputs": []
    },
    {
      "cell_type": "code",
      "source": [
        "random_index = np.random.randint(0,X_test.shape[1])\n",
        "print(\"Prediction made by XGB Regressor:\")\n",
        "print(\"\\t\\tCW Predicted:  \", np.round(model2.predict(X_test[random_index:random_index+1])[0],5))\n",
        "print(\"\\t\\tActual Widht:  \", np.round(y_test[random_index],5))"
      ],
      "metadata": {
        "id": "PVJuW-oSgx4Q"
      },
      "execution_count": null,
      "outputs": []
    },
    {
      "cell_type": "markdown",
      "source": [
        "## Decision Tree *Regression*"
      ],
      "metadata": {
        "id": "dGk56Texn-nJ"
      }
    },
    {
      "cell_type": "code",
      "source": [
        "model3 = DecisionTreeRegressor(random_state=60)\n",
        "model3.fit(X_train, y_train)"
      ],
      "metadata": {
        "id": "VwpSxMHGh5cU"
      },
      "execution_count": null,
      "outputs": []
    },
    {
      "cell_type": "code",
      "source": [
        "y_pred = model3.predict(X_test)\n",
        "mse_dt1 = mean_squared_error(y_pred,y_test)\n",
        "mae_dt1 = mean_absolute_error(y_pred,y_test)\n",
        "rmse_dt1 = np.sqrt(mse_dt1)\n",
        "r_dt1, _ =  pearsonr(y_pred,y_test)\n",
        "print(\"Means Absolute Error (MAE) = \" + str(mae_dt1))\n",
        "print(\"Root Means Squared Error (RMSE) = \" + str(rmse_dt1))\n",
        "print(\"Pearsonr Correlations Coefficient = \" + str(r_dt1))\n",
        "plt.figure(figsize=(5,5))\n",
        "plt.scatter(y_test, y_pred)\n",
        "p1 = max(max(y_pred), max(y_test))\n",
        "p2 = min(min(y_pred), min(y_test))\n",
        "plt.xlabel(\"actual CW\")\n",
        "plt.ylabel(\"predicted CW\")\n",
        "plt.plot([p1, p2], [p1, p2], 'b-')\n",
        "plt.title(\"Decison Tree Regression\")"
      ],
      "metadata": {
        "id": "yyRY78iwimsk"
      },
      "execution_count": null,
      "outputs": []
    },
    {
      "cell_type": "code",
      "source": [
        "random_index = np.random.randint(0,X_test.shape[1])\n",
        "print(\"Prediction made by Decision Tree Regressor:\")\n",
        "print(\"\\t\\tCW Predicted:  \", np.round(model3.predict(X_test[random_index:random_index+1])[0],5))\n",
        "print(\"\\t\\tActual Widht:  \", np.round(y_test[random_index],5))"
      ],
      "metadata": {
        "id": "2GT3pwiMk4Nc"
      },
      "execution_count": null,
      "outputs": []
    },
    {
      "cell_type": "markdown",
      "source": [
        "## Random Forest Regression"
      ],
      "metadata": {
        "id": "p_hwBDSuop7I"
      }
    },
    {
      "cell_type": "code",
      "source": [
        "from sklearn import model_selection\n",
        "model4 = RandomForestRegressor(random_state=60)\n",
        "    \n",
        "model4.fit(X_train, y_train)"
      ],
      "metadata": {
        "id": "sUv_iyuvoHb4"
      },
      "execution_count": null,
      "outputs": []
    },
    {
      "cell_type": "code",
      "source": [
        "y_pred = model4.predict(X_test)\n",
        "mse_rf1 = mean_squared_error(y_pred,y_test)\n",
        "mae_rf1 = mean_absolute_error(y_pred,y_test)\n",
        "rmse_rf1 = np.sqrt(mse_rf1)\n",
        "r_rf1, _ =  pearsonr(y_pred,y_test)\n",
        "print(\"Means Absolute Error (MAE) = \" + str(mae_rf1))\n",
        "print(\"Root Means Squared Error (RMSE) = \" + str(rmse_rf1))\n",
        "print(\"Pearsonr Correlations Coefficient = \" + str(r_rf1))\n",
        "plt.figure(figsize=(5,5))\n",
        "plt.scatter(y_test, y_pred)\n",
        "p1 = max(max(y_pred), max(y_test))\n",
        "p2 = min(min(y_pred), min(y_test))\n",
        "plt.xlabel(\"actual CW\")\n",
        "plt.ylabel(\"predicted CW\")\n",
        "plt.plot([p1, p2], [p1, p2], 'b-')\n",
        "plt.title(\"Random Forest Regression\")"
      ],
      "metadata": {
        "id": "Jrmy03dtoKAP"
      },
      "execution_count": null,
      "outputs": []
    },
    {
      "cell_type": "code",
      "source": [
        "random_index = np.random.randint(0,X_test.shape[1])\n",
        "print(\"Prediction made by Random Forest Regressor:\")\n",
        "print(\"\\t\\tCW Predicted:  \", np.round(model4.predict(X_test[random_index:random_index+1])[0],5))\n",
        "print(\"\\t\\tActual Widht:  \", np.round(y_test[random_index],5))"
      ],
      "metadata": {
        "id": "-OGb-wMeoWtn"
      },
      "execution_count": null,
      "outputs": []
    },
    {
      "cell_type": "markdown",
      "source": [
        "## KNeighbors Regressor"
      ],
      "metadata": {
        "id": "AtLGmpK7uSXf"
      }
    },
    {
      "cell_type": "code",
      "source": [
        "model6 =KNeighborsRegressor()\n",
        "model6.fit(X_train, y_train)"
      ],
      "metadata": {
        "id": "CEUsvpIhtOUJ"
      },
      "execution_count": null,
      "outputs": []
    },
    {
      "cell_type": "code",
      "source": [
        "y_pred = model6.predict(X_test)\n",
        "mse_kn1 = mean_squared_error(y_pred,y_test)\n",
        "mae_kn1 = mean_absolute_error(y_pred,y_test)\n",
        "rmse_kn1 = np.sqrt(mse_kn1)\n",
        "r_kn1, _ =  pearsonr(y_pred,y_test)\n",
        "print(\"Means Absolute Error (MAE) = \" + str(mae_kn1))\n",
        "print(\"Root Means Squared Error (RMSE) = \" + str(rmse_kn1))\n",
        "print(\"Pearsonr Correlations Coefficient = \" + str(r_kn1))\n",
        "plt.figure(figsize=(5,5))\n",
        "plt.scatter(y_test, y_pred)\n",
        "p1 = max(max(y_pred), max(y_test))\n",
        "p2 = min(min(y_pred), min(y_test))\n",
        "plt.xlabel(\"actual CW\")\n",
        "plt.ylabel(\"predicted CW\")\n",
        "plt.plot([p1, p2], [p1, p2], 'b-')\n",
        "plt.title(\"KNeighbors Regression\")"
      ],
      "metadata": {
        "id": "ZYChJKvMtSF4"
      },
      "execution_count": null,
      "outputs": []
    },
    {
      "cell_type": "code",
      "source": [
        "random_index = np.random.randint(0,X_test.shape[1])\n",
        "print(\"Prediction made by KNeighbors Regressor:\")\n",
        "print(\"\\t\\tCW Predicted:  \", np.round(model6.predict(X_test[random_index:random_index+1])[0],5))\n",
        "print(\"\\t\\tActual Widht:  \", np.round(y_test[random_index],5))"
      ],
      "metadata": {
        "id": "Uk1aHU0Iumc-"
      },
      "execution_count": null,
      "outputs": []
    },
    {
      "cell_type": "markdown",
      "source": [
        "## Ridge Regression"
      ],
      "metadata": {
        "id": "Ffj6BJ-MQ3qR"
      }
    },
    {
      "cell_type": "code",
      "source": [
        "model7 = Ridge()\n",
        "model7.fit(X_train, y_train)"
      ],
      "metadata": {
        "id": "Ns0juOqFQEEO"
      },
      "execution_count": null,
      "outputs": []
    },
    {
      "cell_type": "code",
      "source": [
        "y_pred = model7.predict(X_test)\n",
        "mse_rg1 = mean_squared_error(y_pred,y_test)\n",
        "mae_rg1 = mean_absolute_error(y_pred,y_test)\n",
        "rmse_rg1 = np.sqrt(mse_rg1)\n",
        "r_rg1, _ =  pearsonr(y_pred,y_test)\n",
        "print(\"Means Absolute Error (MAE) = \" + str(mae_rg1))\n",
        "print(\"Root Means Squared Error (RMSE) = \" + str(rmse_rg1))\n",
        "print(\"Pearsonr Correlations Coefficient = \" + str(r_rg1))\n",
        "plt.figure(figsize=(5,5))\n",
        "plt.scatter(y_test, y_pred)\n",
        "p1 = max(max(y_pred), max(y_test))\n",
        "p2 = min(min(y_pred), min(y_test))\n",
        "plt.xlabel(\"actual CW\")\n",
        "plt.ylabel(\"predicted CW\")\n",
        "plt.plot([p1, p2], [p1, p2], 'b-')\n",
        "plt.title(\"Ridge Regression\")"
      ],
      "metadata": {
        "id": "oaGLy2CaQLAA"
      },
      "execution_count": null,
      "outputs": []
    },
    {
      "cell_type": "code",
      "source": [
        "random_index = np.random.randint(0,X_test.shape[1])\n",
        "print(\"Prediction made by KNeighbors Regressor:\")\n",
        "print(\"\\t\\tCW Predicted:  \", np.round(model7.predict(X_test[random_index:random_index+1])[0],5))\n",
        "print(\"\\t\\tActual Widht:  \", np.round(y_test[random_index],5))"
      ],
      "metadata": {
        "id": "Ix5e7f5zQrcR"
      },
      "execution_count": null,
      "outputs": []
    },
    {
      "cell_type": "markdown",
      "source": [
        "# EVALUASI"
      ],
      "metadata": {
        "id": "xv30YIz99mW-"
      }
    },
    {
      "cell_type": "code",
      "source": [
        "tbl1 = pd.DataFrame({'Algoritma': ['CatBoost', 'Linear Regression', 'XGB Regression', 'Decision Tree','Random Forest Regression','KNeighbors Regressor', 'Ridge Regression'],\n",
        "                   'RMSE': [rmse_cb1, rmse_lr1, rmse_xgb1, rmse_dt1, rmse_rf1 , rmse_kn1, rmse_rg1],\n",
        "                   'MAE': [mae_cb1, mae_lr1, mae_xgb1, mae_dt1, mae_rf1 , mae_kn1, mae_rg1],\n",
        "                   'r corr': [r_cb1, r_lr1, r_xgb1, r_dt1, r_rf1 , r_kn1, r_rg1]})\n",
        "blankIndex2=[''] * len(tbl1)\n",
        "tbl1.index=blankIndex2\n",
        "tbl1"
      ],
      "metadata": {
        "id": "tgUmXBxr9p-H"
      },
      "execution_count": null,
      "outputs": []
    },
    {
      "cell_type": "markdown",
      "source": [
        "# Modeling hyperparameter tuning "
      ],
      "metadata": {
        "id": "hqAdcwXKONtD"
      }
    },
    {
      "cell_type": "markdown",
      "source": [
        "## CatBoost Regressor"
      ],
      "metadata": {
        "id": "Qgvc3cQEONtI"
      }
    },
    {
      "cell_type": "code",
      "source": [
        "model8 = CatBoostRegressor()"
      ],
      "metadata": {
        "id": "ylhoxdBGMrWq"
      },
      "execution_count": null,
      "outputs": []
    },
    {
      "cell_type": "code",
      "source": [
        "parameters = {'depth'         : [1,2,3,4,5,6,7, 8,10],\n",
        "              'learning_rate' : [0.1, 0.2, 0.3,1,2,3,4],\n",
        "              'iterations'    : [ 50, 100, 200, 300]}\n",
        "\n",
        "model8 = GridSearchCV(estimator=model8, param_grid = parameters, cv = 2, n_jobs=-1)\n",
        "\n",
        "model8.fit(X_train,y_train)\n",
        "model8.best_params_"
      ],
      "metadata": {
        "id": "5K4rzXyeKopy"
      },
      "execution_count": null,
      "outputs": []
    },
    {
      "cell_type": "code",
      "source": [
        "y_pred = model8.predict(X_test)\n",
        "mse_cb2 = mean_squared_error(y_pred,y_test)\n",
        "mae_cb2 = mean_absolute_error(y_pred,y_test)\n",
        "rmse_cb2 = np.sqrt(mse_cb2)\n",
        "r_cb2, _ =  pearsonr(y_pred,y_test)\n",
        "print(\"Means Absolute Error (MAE) = \" + str(mae_cb2))\n",
        "print(\"Root Means Squared Error (RMSE) = \" + str(rmse_cb2))\n",
        "print(\"Pearsonr Correlations Coefficient = \" + str(r_cb2))\n",
        "plt.figure(figsize=(5,5))\n",
        "plt.scatter(y_test, y_pred)\n",
        "p1 = max(max(y_pred), max(y_test))\n",
        "p2 = min(min(y_pred), min(y_test))\n",
        "plt.xlabel(\"actual CW\")\n",
        "plt.ylabel(\"predicted CW\")\n",
        "plt.plot([p1, p2], [p1, p2], 'b-')\n",
        "plt.title(\"Catboost Regression With GridSearchCV\")"
      ],
      "metadata": {
        "id": "-0TxfZltONtI"
      },
      "execution_count": null,
      "outputs": []
    },
    {
      "cell_type": "code",
      "source": [
        "y_pred = np.array(y_pred)"
      ],
      "metadata": {
        "id": "qvZDzWZPONtI"
      },
      "execution_count": null,
      "outputs": []
    },
    {
      "cell_type": "code",
      "source": [
        "random_index = np.random.randint(0,X_test.shape[1])\n",
        "print(\"Prediction made by CatBoost Regressor:\")\n",
        "print(\"\\t\\tCW Predicted:  \", np.round(model8.predict(X_test[random_index:random_index+1])[0],5))\n",
        "print(\"\\t\\tActual Widht:  \", np.round(y_test[random_index],5))"
      ],
      "metadata": {
        "id": "ZwHNBO4NONtJ"
      },
      "execution_count": null,
      "outputs": []
    },
    {
      "cell_type": "markdown",
      "source": [
        "## Linear Regression"
      ],
      "metadata": {
        "id": "sP8ZOG_mONtJ"
      }
    },
    {
      "cell_type": "code",
      "source": [
        "model9 = LinearRegression()"
      ],
      "metadata": {
        "id": "clwzwfHFONtJ"
      },
      "execution_count": null,
      "outputs": []
    },
    {
      "cell_type": "code",
      "source": [
        "parameters = {'fit_intercept':[True,False], 'normalize':[True,False], 'copy_X':[True, False], 'positive':[True,False], 'n_jobs':[200, 300, 1000]}\n",
        "model9 = GridSearchCV(model9,parameters, cv=2)\n",
        "model9.fit(X_train, y_train)\n",
        "model9.best_params_"
      ],
      "metadata": {
        "id": "HFc8qknsMGaj"
      },
      "execution_count": null,
      "outputs": []
    },
    {
      "cell_type": "code",
      "source": [
        "y_pred = model9.predict(X_test)\n",
        "mse_lr2 = mean_squared_error(y_pred,y_test)\n",
        "mae_lr2 = mean_absolute_error(y_pred,y_test)\n",
        "rmse_lr2 = np.sqrt(mse_lr2)\n",
        "r_lr2, _ =  pearsonr(y_pred,y_test)\n",
        "print(\"Means Absolute Error (MAE) = \" + str(mae_lr2))\n",
        "print(\"Root Means Squared Error (RMSE) = \" + str(rmse_lr2))\n",
        "print(\"Pearsonr Correlations Coefficient = \" + str(r_lr2))\n",
        "plt.figure(figsize=(5,5))\n",
        "plt.scatter(y_test, y_pred)\n",
        "p1 = max(max(y_pred), max(y_test))\n",
        "p2 = min(min(y_pred), min(y_test))\n",
        "plt.xlabel(\"actual CW\")\n",
        "plt.ylabel(\"predicted CW\")\n",
        "plt.plot([p1, p2], [p1, p2], 'b-')\n",
        "plt.title(\"Linear Regression With GridSearchCV\")"
      ],
      "metadata": {
        "id": "73bmCFiPONtJ"
      },
      "execution_count": null,
      "outputs": []
    },
    {
      "cell_type": "code",
      "source": [
        "random_index = np.random.randint(0,X_test.shape[1])\n",
        "print(\"Prediction made by Linear Regression:\")\n",
        "print(\"\\t\\tCW Predicted:  \", np.round(model9.predict(X_test[random_index:random_index+1])[0],5))\n",
        "print(\"\\t\\tActual Widht:  \", np.round(y_test[random_index],5))"
      ],
      "metadata": {
        "id": "gA01WuFmONtJ"
      },
      "execution_count": null,
      "outputs": []
    },
    {
      "cell_type": "markdown",
      "source": [
        "## XGB Regression"
      ],
      "metadata": {
        "id": "iYYYc0LZONtJ"
      }
    },
    {
      "cell_type": "code",
      "source": [
        "model10 = XGBRegressor()\n"
      ],
      "metadata": {
        "id": "TvFTsxv9ONtJ"
      },
      "execution_count": null,
      "outputs": []
    },
    {
      "cell_type": "code",
      "source": [
        "parameters = {'learning_rate': [0.01,0.02,0.03,0.04,0.05,0.06, 0.07, 0.08, 0.09], #so called `eta` value\n",
        "             }\n",
        "model10 = GridSearchCV(model10,parameters, cv=None)\n",
        "model10.fit(X_train, y_train)\n",
        "model10.best_params_"
      ],
      "metadata": {
        "id": "GpEQB3EMNi5c"
      },
      "execution_count": null,
      "outputs": []
    },
    {
      "cell_type": "code",
      "source": [
        "y_pred = model10.predict(X_test)\n",
        "mse_xgb2 = mean_squared_error(y_pred,y_test)\n",
        "mae_xgb2 = mean_absolute_error(y_pred,y_test)\n",
        "rmse_xgb2 = np.sqrt(mse_xgb2)\n",
        "r_xgb2, _ =  pearsonr(y_pred,y_test)\n",
        "print(\"Means Absolute Error (MAE) = \" + str(mae_xgb2))\n",
        "print(\"Root Means Squared Error (RMSE) = \" + str(rmse_xgb2))\n",
        "print(\"Pearsonr Correlations Coefficient = \" + str(r_xgb2))\n",
        "plt.figure(figsize=(5,5))\n",
        "plt.scatter(y_test, y_pred)\n",
        "p1 = max(max(y_pred), max(y_test))\n",
        "p2 = min(min(y_pred), min(y_test))\n",
        "plt.xlabel(\"actual CW\")\n",
        "plt.ylabel(\"predicted CW\")\n",
        "plt.plot([p1, p2], [p1, p2], 'b-')\n",
        "plt.title(\"XGboost Regression With GridSearchCV\")"
      ],
      "metadata": {
        "id": "ciSlQs9kONtK"
      },
      "execution_count": null,
      "outputs": []
    },
    {
      "cell_type": "code",
      "source": [
        "random_index = np.random.randint(0,X_test.shape[1])\n",
        "print(\"Prediction made by XGB Regressor:\")\n",
        "print(\"\\t\\tCW Predicted:  \", np.round(model10.predict(X_test[random_index:random_index+1])[0],5))\n",
        "print(\"\\t\\tActual Widht:  \", np.round(y_test[random_index],5))"
      ],
      "metadata": {
        "id": "piFfVpiVONtK"
      },
      "execution_count": null,
      "outputs": []
    },
    {
      "cell_type": "markdown",
      "source": [
        "## Decision Tree *Regression*"
      ],
      "metadata": {
        "id": "RVernRSPONtK"
      }
    },
    {
      "cell_type": "code",
      "source": [
        "model11 = DecisionTreeRegressor()\n"
      ],
      "metadata": {
        "id": "-AUZbeMkONtK"
      },
      "execution_count": null,
      "outputs": []
    },
    {
      "cell_type": "code",
      "source": [
        "param_grid = {\"splitter\":[\"best\",\"random\"],\n",
        "           \"min_samples_leaf\":[1,2,3,4,5,6,7,8,9,10], \n",
        "           \"random_state\" : [ 8,16, 32, 42],\n",
        "           \"max_depth\":[1000, 100, 20, 19, 18,17,15],'max_leaf_nodes':[1000, 100, 20, 19, 18],'min_samples_leaf':[1, 2, 3, 4,5], \"max_features\":[\"auto\", \"sqrt\", \"log2\"]}\n",
        "           \n",
        "model11 = GridSearchCV(model11, param_grid, cv=3, scoring='f1_macro')\n",
        "\n",
        "model11.fit(X_train,y_train)\n",
        "model11.best_params_"
      ],
      "metadata": {
        "id": "TFpd88h-JZPr"
      },
      "execution_count": null,
      "outputs": []
    },
    {
      "cell_type": "code",
      "source": [
        "y_pred = model11.predict(X_test)\n",
        "mse_dt2 = mean_squared_error(y_pred,y_test)\n",
        "mae_dt2 = mean_absolute_error(y_pred,y_test)\n",
        "rmse_dt2 = np.sqrt(mse_dt2)\n",
        "print(\"Means Absolute Error (MAE) = \" + str(mae_dt2))\n",
        "print(\"Root Means Squared Error (RMSE) = \" + str(rmse_dt2))\n",
        "r_dt2, _ =  pearsonr(y_test, y_pred)\n",
        "print(\"Pearsonr Correlations Coefficient = \" + str(r_dt2))\n",
        "plt.figure(figsize=(5,5))\n",
        "plt.scatter(y_test, y_pred)\n",
        "p1 = max(max(y_pred), max(y_test))\n",
        "p2 = min(min(y_pred), min(y_test))\n",
        "plt.xlabel(\"actual CW\")\n",
        "plt.ylabel(\"predicted CW\")\n",
        "plt.plot([p1, p2], [p1, p2], 'b-')\n",
        "plt.title(\"Decision Tree Regression With GridSearchCV\")"
      ],
      "metadata": {
        "id": "cUOglH03ONtK"
      },
      "execution_count": null,
      "outputs": []
    },
    {
      "cell_type": "code",
      "source": [
        "random_index = np.random.randint(0,X_test.shape[1])\n",
        "print(\"Prediction made by Decision Tree Regressor:\")\n",
        "print(\"\\t\\tCW Predicted:  \", np.round(model11.predict(X_test[random_index:random_index+1])[0],5))\n",
        "print(\"\\t\\tActual Widht:  \", np.round(y_test[random_index],5))"
      ],
      "metadata": {
        "id": "I9vbdtEIONtK"
      },
      "execution_count": null,
      "outputs": []
    },
    {
      "cell_type": "markdown",
      "source": [
        "## Random Forest Regression"
      ],
      "metadata": {
        "id": "0lXztpGAONtK"
      }
    },
    {
      "cell_type": "code",
      "source": [
        "model12 = RandomForestRegressor()\n"
      ],
      "metadata": {
        "id": "osw2Jp54ONtK"
      },
      "execution_count": null,
      "outputs": []
    },
    {
      "cell_type": "code",
      "source": [
        "param_grid = { 'max_depth' : [ 6, 7, 8, 10, 100, 1000], 'n_estimators':[10,100],\n",
        "               'oob_score':[True,False], 'random_state':[8, 16, 42]}\n",
        "model12 = GridSearchCV(model12, param_grid, n_jobs=100, cv=5, scoring='f1_macro')\n",
        "\n",
        "model12.fit(X_train,y_train)\n",
        "model12.best_params_"
      ],
      "metadata": {
        "id": "a-2OtDkJPDnk"
      },
      "execution_count": null,
      "outputs": []
    },
    {
      "cell_type": "code",
      "source": [
        "y_pred = model12.predict(X_test)\n",
        "mse_rf2 = mean_squared_error(y_pred,y_test)\n",
        "mae_rf2 = mean_absolute_error(y_pred,y_test)\n",
        "rmse_rf2 = np.sqrt(mse_rf2)\n",
        "r_rf2, _ =  pearsonr(y_pred,y_test)\n",
        "print(\"Means Absolute Error (MAE) = \" + str(mae_rf2))\n",
        "print(\"Root Means Squared Error (RMSE) = \" + str(rmse_rf2))\n",
        "print(\"Pearsonr Correlations Coefficient = \" + str(r_rf2))\n",
        "plt.figure(figsize=(5,5))\n",
        "plt.scatter(y_test, y_pred)\n",
        "p1 = max(max(y_pred), max(y_test))\n",
        "p2 = min(min(y_pred), min(y_test))\n",
        "plt.xlabel(\"actual CW\")\n",
        "plt.ylabel(\"predicted CW\")\n",
        "plt.plot([p1, p2], [p1, p2], 'b-')\n",
        "plt.title(\"Random Forest Regression With GridSearchCV\")"
      ],
      "metadata": {
        "id": "jyJ4XqVFONtK"
      },
      "execution_count": null,
      "outputs": []
    },
    {
      "cell_type": "code",
      "source": [
        "random_index = np.random.randint(0,X_test.shape[1])\n",
        "print(\"Prediction made by Random Forest Regressor:\")\n",
        "print(\"\\t\\tCW Predicted:  \", np.round(model12.predict(X_test[random_index:random_index+1])[0],5))\n",
        "print(\"\\t\\tActual Widht:  \", np.round(y_test[random_index],5))"
      ],
      "metadata": {
        "id": "coXqFc89ONtK"
      },
      "execution_count": null,
      "outputs": []
    },
    {
      "cell_type": "markdown",
      "source": [
        "## KNeighbors Regressor"
      ],
      "metadata": {
        "id": "G6l4OpUrONtL"
      }
    },
    {
      "cell_type": "code",
      "source": [
        "model13 = KNeighborsRegressor()\n"
      ],
      "metadata": {
        "id": "HXwTc-82ONtL"
      },
      "execution_count": null,
      "outputs": []
    },
    {
      "cell_type": "code",
      "source": [
        "param_grid = {'n_neighbors': [ 3, 2, 1],'p':[2, 3, 4, 5], \"weights\":['uniform', 'distance']}\n",
        "model13 = GridSearchCV(model13, param_grid,cv=3, scoring='f1_macro')\n",
        "\n",
        "model13.fit(X_train,y_train)\n",
        "model13.best_params_"
      ],
      "metadata": {
        "id": "hDQCf0BPTu5-"
      },
      "execution_count": null,
      "outputs": []
    },
    {
      "cell_type": "code",
      "source": [
        "y_pred = model13.predict(X_test)\n",
        "mse_kn2 = mean_squared_error(y_pred,y_test)\n",
        "mae_kn2 = mean_absolute_error(y_pred,y_test)\n",
        "rmse_kn2 = np.sqrt(mse_kn2)\n",
        "r_kn2, _ =  pearsonr(y_pred,y_test)\n",
        "print(\"Means Absolute Error (MAE) = \" + str(mae_kn2))\n",
        "print(\"Root Means Squared Error (RMSE) = \" + str(rmse_kn2))\n",
        "print(\"Pearsonr Correlations Coefficient = \" + str(r_kn2))\n",
        "plt.figure(figsize=(5,5))\n",
        "plt.scatter(y_test, y_pred)\n",
        "p1 = max(max(y_pred), max(y_test))\n",
        "p2 = min(min(y_pred), min(y_test))\n",
        "plt.xlabel(\"actual CW\")\n",
        "plt.ylabel(\"predicted CW\")\n",
        "plt.plot([p1, p2], [p1, p2], 'b-')\n",
        "plt.title(\"KNeighbors Regression With GridSearchCV\")"
      ],
      "metadata": {
        "id": "CW7EtT8sONtL"
      },
      "execution_count": null,
      "outputs": []
    },
    {
      "cell_type": "code",
      "source": [
        "random_index = np.random.randint(0,X_test.shape[1])\n",
        "print(\"Prediction made by KNeighbors Regressor:\")\n",
        "print(\"\\t\\tCW Predicted:  \", np.round(model13.predict(X_test[random_index:random_index+1])[0],5))\n",
        "print(\"\\t\\tActual Widht:  \", np.round(y_test[random_index],5))"
      ],
      "metadata": {
        "id": "JFN7WrYIONtL"
      },
      "execution_count": null,
      "outputs": []
    },
    {
      "cell_type": "markdown",
      "source": [
        "## Ridge Regression"
      ],
      "metadata": {
        "id": "nstnUwWkaDzK"
      }
    },
    {
      "cell_type": "code",
      "source": [
        "model14 = Ridge()"
      ],
      "metadata": {
        "id": "mgHSxNveaDzQ"
      },
      "execution_count": null,
      "outputs": []
    },
    {
      "cell_type": "code",
      "source": [
        "param_grid = {'alpha':[0.01, 0.1, 0.2, 0.3],\"fit_intercept\":[True,False], 'random_state':[42, 16], \"solver\": ['svd', 'cholesky', 'lsqr', 'sparse_cg', 'sag', 'saga']}  \n",
        "model14 = GridSearchCV(model14, param_grid,n_jobs=-1, scoring='f1_macro')\n",
        "\n",
        "model14.fit(X_train,y_train)\n",
        "model14.best_params_"
      ],
      "metadata": {
        "id": "xDsuZpgBUblP"
      },
      "execution_count": null,
      "outputs": []
    },
    {
      "cell_type": "code",
      "source": [
        "y_pred = model14.predict(X_test)\n",
        "mse_rg2 = mean_squared_error(y_pred,y_test)\n",
        "mae_rg2 = mean_absolute_error(y_pred,y_test)\n",
        "rmse_rg2 = np.sqrt(mse_rg2)\n",
        "r_rg2, _ =  pearsonr(y_pred,y_test)\n",
        "print(\"Means Absolute Error (MAE) = \" + str(mae_rg2))\n",
        "print(\"Root Means Squared Error (RMSE) = \" + str(rmse_rg2))\n",
        "print(\"Pearsonr Correlations Coefficient = \" + str(r_rg2))\n",
        "plt.figure(figsize=(5,5))\n",
        "plt.scatter(y_test, y_pred)\n",
        "p1 = max(max(y_pred), max(y_test))\n",
        "p2 = min(min(y_pred), min(y_test))\n",
        "plt.xlabel(\"actual CW\")\n",
        "plt.ylabel(\"predicted CW\")\n",
        "plt.plot([p1, p2], [p1, p2], 'b-')\n",
        "plt.title(\"Ridge Regression With GridSearchCV\")"
      ],
      "metadata": {
        "id": "rrpRU1AqaDzQ"
      },
      "execution_count": null,
      "outputs": []
    },
    {
      "cell_type": "code",
      "source": [
        "random_index = np.random.randint(0,X_test.shape[1])\n",
        "print(\"Prediction made by KNeighbors Regressor:\")\n",
        "print(\"\\t\\tCW Predicted:  \", np.round(model14.predict(X_test[random_index:random_index+1])[0],5))\n",
        "print(\"\\t\\tActual Widht:  \", np.round(y_test[random_index],5))"
      ],
      "metadata": {
        "id": "Q822vSBLaDzQ"
      },
      "execution_count": null,
      "outputs": []
    },
    {
      "cell_type": "markdown",
      "source": [
        "#EVALUASI\n"
      ],
      "metadata": {
        "id": "Q4F_oXC_ASo_"
      }
    },
    {
      "cell_type": "code",
      "source": [
        "tbl2 = pd.DataFrame({'Algoritma': ['CatBoost', 'Linear Regression', 'XGB Regression', 'Decision Tree','Random Forest Regression','KNeighbors Regressor', 'Ridge Regression'],\n",
        "                    'RMSE BEFORE': [rmse_cb1, rmse_lr1, rmse_xgb1, rmse_dt1,rmse_rf1 , rmse_kn1, rmse_rg1],\n",
        "                   'RMSE': [rmse_cb2, rmse_lr2, rmse_xgb2, rmse_dt2,rmse_rf2 , rmse_kn2, rmse_rg2],\n",
        "                    'MAE BEFORE': [mae_cb1, mae_lr1, mae_xgb1, mae_dt1, mae_rf1 , mae_kn1, mae_rg1],\n",
        "                   'MAE': [mae_cb2, mae_lr2, mae_xgb2, mae_dt2, mae_rf2 , mae_kn2, mae_rg2],\n",
        "                   'r corr BEFORE': [r_cb1, r_lr1, r_xgb1, r_dt1, r_rf1 , r_kn1, r_rg1],\n",
        "                   'r corr': [r_cb2, r_lr2, r_xgb2, r_dt2, r_rf2 , r_kn2, r_rg2]})\n",
        "blankIndex2=[''] * len(tbl2)\n",
        "tbl2.index=blankIndex2\n",
        "tbl2\n"
      ],
      "metadata": {
        "id": "VjxKArRYAWNf"
      },
      "execution_count": null,
      "outputs": []
    },
    {
      "cell_type": "code",
      "source": [
        "# creating the dataset\n",
        "\n",
        "fig = plt.figure(figsize = (8, 8))\n",
        " \n",
        "# creating the bar plot\n",
        "plt.bar(tbl2['Algoritma'], tbl2['r corr'], color ='grey',\n",
        "        width = 0.4)\n",
        " \n",
        "plt.xlabel(\"Algoritma\")\n",
        "plt.ylabel(\"Pearson Correlations Coefficient\")\n",
        "plt.title(\"Perbandingan Pearson Correlations Coefficient\")\n",
        "plt.show()"
      ],
      "metadata": {
        "id": "h3KjMgAkU1mB"
      },
      "execution_count": null,
      "outputs": []
    },
    {
      "cell_type": "markdown",
      "source": [
        "https://colab.research.google.com/drive/1eWMtxh-DS3QVUoN5U6oiuhReWRPM0WRx?usp=sharing >>> system with Gender\n"
      ],
      "metadata": {
        "id": "DcLqM9HruLcB"
      }
    }
  ]
}